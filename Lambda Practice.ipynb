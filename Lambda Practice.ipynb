{
 "cells": [
  {
   "cell_type": "code",
   "execution_count": 5,
   "metadata": {},
   "outputs": [
    {
     "name": "stdout",
     "output_type": "stream",
     "text": [
      "7\n"
     ]
    }
   ],
   "source": [
    "addNum = lambda x : x + 5\n",
    "inputNum = addNum(2)\n",
    "print (inputNum)"
   ]
  },
  {
   "cell_type": "code",
   "execution_count": 6,
   "metadata": {},
   "outputs": [
    {
     "name": "stdout",
     "output_type": "stream",
     "text": [
      "20\n"
     ]
    }
   ],
   "source": [
    "multiply = lambda num1, num2 : num1 * num2\n",
    "\n",
    "firstNum = int(input(\"Enter first number:\"))\n",
    "secondNum = int(input(\"Enter second number: \"))\n",
    "product = multiply(firstNum, secondNum)\n",
    "print(product)\n",
    "print(\"sheesh\")"
   ]
  }
 ],
 "metadata": {
  "kernelspec": {
   "display_name": "Python 3.10.6 64-bit",
   "language": "python",
   "name": "python3"
  },
  "language_info": {
   "codemirror_mode": {
    "name": "ipython",
    "version": 3
   },
   "file_extension": ".py",
   "mimetype": "text/x-python",
   "name": "python",
   "nbconvert_exporter": "python",
   "pygments_lexer": "ipython3",
   "version": "3.10.6"
  },
  "orig_nbformat": 4,
  "vscode": {
   "interpreter": {
    "hash": "d620613bd55d23a285227086cd2b646c9d1383c1e1cd3d4c4d0f92bf8aa2627d"
   }
  }
 },
 "nbformat": 4,
 "nbformat_minor": 2
}
