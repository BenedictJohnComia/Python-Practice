{
 "cells": [
  {
   "cell_type": "code",
   "execution_count": null,
   "metadata": {},
   "outputs": [],
   "source": [
    "#Odd or Even Tester\n",
    "testNum = int(input(\"Enter a number to be evaluated: \"))\n",
    "if testNum % 2 != 0:\n",
    "    print(testNum, \"is an odd number\")\n",
    "else:\n",
    "    print(testNum, \"is an even number\")"
   ]
  },
  {
   "cell_type": "code",
   "execution_count": 1,
   "metadata": {},
   "outputs": [
    {
     "name": "stdout",
     "output_type": "stream",
     "text": [
      "The list created is [321, 123, 321, 312, 132]\n",
      "321 is an odd number\n",
      "123 is an odd number\n",
      "321 is an odd number\n",
      "312 is an even number\n",
      "132 is an even number\n"
     ]
    }
   ],
   "source": [
    "#The following codeblock involves input from the user and lists.\n",
    "def inputList(inputNum):\n",
    "    cntr = 0\n",
    "    sampleList = []\n",
    "    if cntr < inputNum:\n",
    "        for x in range(inputNum):\n",
    "            num = int(input(\"Enter a number to be included in the list\"))\n",
    "            sampleList.append(num)\n",
    "    \n",
    "    print(\"The list created is\", sampleList)\n",
    "    return sampleList\n",
    "\n",
    "inputNum = int(input(\"Enter the number of items to be included in the list: \"))\n",
    "\n",
    "completeList = inputList(inputNum)\n",
    "\n",
    "for x in completeList:\n",
    "    if x % 2 == 0:\n",
    "        print(x, \"is an even number\")\n",
    "    else:\n",
    "        print(x, \"is an odd number\")\n",
    "\n"
   ]
  }
 ],
 "metadata": {
  "kernelspec": {
   "display_name": "Python 3.10.6 64-bit",
   "language": "python",
   "name": "python3"
  },
  "language_info": {
   "codemirror_mode": {
    "name": "ipython",
    "version": 3
   },
   "file_extension": ".py",
   "mimetype": "text/x-python",
   "name": "python",
   "nbconvert_exporter": "python",
   "pygments_lexer": "ipython3",
   "version": "3.10.6"
  },
  "orig_nbformat": 4,
  "vscode": {
   "interpreter": {
    "hash": "d620613bd55d23a285227086cd2b646c9d1383c1e1cd3d4c4d0f92bf8aa2627d"
   }
  }
 },
 "nbformat": 4,
 "nbformat_minor": 2
}
